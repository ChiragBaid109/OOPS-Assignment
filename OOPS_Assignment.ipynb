{
  "nbformat": 4,
  "nbformat_minor": 0,
  "metadata": {
    "colab": {
      "provenance": []
    },
    "kernelspec": {
      "name": "python3",
      "display_name": "Python 3"
    },
    "language_info": {
      "name": "python"
    }
  },
  "cells": [
    {
      "cell_type": "markdown",
      "source": [
        "Q1)What is Object-Oriented Programming (OOP)?\n",
        "\n",
        "ans-Object-Oriented Programming (OOP) is a programming paradigm that structures code around objects, which encapsulate data (attributes) and methods (functions) that operate on that data.\n",
        "\n",
        "Q2)What is a class in OOP?\n",
        "\n",
        "ans-In object-oriented programming (OOP), a class is a blueprint or template for creating objects. It defines the structure and behavior (attributes and methods) that its objects will have.\n",
        "\n",
        "Q3) What is an object in OOP?\n",
        "\n",
        "ans-In Object-Oriented Programming (OOP), an object is a self-contained unit that combines data (attributes or properties) and the functions (methods) that operate on that data.\n",
        "\n",
        "Q4)What is the difference between abstraction and encapsulation?\n",
        "\n",
        "ans-Abstraction focuses on what an object does, while encapsulation focuses on how it does it.\n",
        "\n",
        "Q5) What are dunder methods in Python?\n",
        "\n",
        "ans-Dunder methods, also known as magic methods or special methods, are distinct methods in Python that are identified by their double leading and trailing underscores (e.g., __init__, __str__, __add__). These methods allow custom classes to interact seamlessly with Python's built-in operations, functions, and syntax.\n",
        "\n",
        "Q6) Explain the concept of inheritance in OOP.\n",
        "\n",
        "ans-Inheritance in object-oriented programming (OOP) is a mechanism where a new class (the subclass or child class) is created based on an existing class (the superclass or parent class), inheriting its attributes and methods.\n",
        "\n",
        "Q7) What is polymorphism in OOP?\n",
        "\n",
        "ans-Polymorphism, in object-oriented programming (OOP), is the ability of an object to take on many forms or behaviors.\n",
        "\n",
        "Q8) How is encapsulation achieved in Python?\n",
        "\n",
        "ans-Encapsulation in Python is achieved through a combination of conventions and language features, as Python does not have strict access modifiers like public, private, or protected found in some other object-oriented languages.\n",
        "\n",
        "Q9) What is a constructor in Python?\n",
        "\n",
        "ans-In Python, a constructor is a special method within a class that is automatically invoked when a new object (instance) of that class is created. Its primary purpose is to initialize the object's attributes and set up its initial state.\n",
        "\n",
        "Q10) What are class and static methods in Python?\n",
        "\n",
        "ans-In Python, class methods and static methods are distinct types of methods within a class, differing in their access to class and instance data and how they are typically used.\n",
        "\n",
        "Q11) What is method overloading in Python?\n",
        "\n",
        "ans-Method overloading in Python refers to the ability to define multiple methods within a single class that share the same name but can handle different parameters.\n",
        "\n",
        "Q12) What is method overriding in OOP?\n",
        "\n",
        "ans-Method overriding in object-oriented programming is when a subclass provides a specific implementation of a method that is already defined in its superclass.\n",
        "\n",
        "Q13) What is a property decorator in Python?\n",
        "\n",
        "ans-In Python, the @property decorator is a built-in decorator that transforms a method within a class into a \"property.\" This allows the method to be accessed and potentially modified or deleted as if it were a regular attribute, while still enabling the execution of custom logic (like validation, computation, or access control) when the attribute is accessed, assigned, or deleted.\n",
        "\n",
        "Q14) Why is polymorphism important in OOP?\n",
        "\n",
        "ans-Polymorphism is crucial in object-oriented programming because it allows objects of different classes to be treated as objects of a common type, promoting code reusability, flexibility, and maintainability.\n",
        "\n",
        "Q15) What is an abstract class in Python?\n",
        "\n",
        "ans-An abstract class in Python is a class that cannot be instantiated directly and is designed to be inherited by other classes. It serves as a blueprint or a template, defining a common interface or structure that its subclasses must adhere to.\n",
        "\n",
        "Q16) What are the advantages of OOP?\n",
        "\n",
        "ans-Object-Oriented Programming (OOP) offers several advantages, primarily enhancing code organization, reusability, and maintainability.\n",
        "\n",
        "Q17) What is the difference between a class variable and an instance variable?\n",
        "\n",
        "ans-Class variables and instance variables differ in their scope and how they are shared among class instances. Class variables are associated with the class itself and are shared by all instances of that class, while instance variables are specific to each individual object (instance) of the class.\n",
        "\n",
        "Q18) What is multiple inheritance in Python?\n",
        "\n",
        "ans-Multiple inheritance in Python is a feature that allows a class to inherit attributes and methods from more than one parent class. This means a single child class can combine functionalities and characteristics from several distinct base classes.\n",
        "\n",
        "Q19) Explain the purpose of ‘’__str__’ and ‘__repr__’ ‘ methods in Python\n",
        "\n",
        "ans-In Python, __str__ and __repr__ are special methods, also known as dunder methods, that define how an object is represented as a string. They serve different purposes and are intended for different audiences.\n",
        "\n",
        "Q20) What is the significance of the ‘super()’ function in Python?\n",
        "\n",
        "ans-The super() function in Python holds significant importance within the context of object-oriented programming, particularly concerning inheritance. Its primary significance lies in facilitating the interaction between a subclass and its parent (or \"superclass\") in an inheritance hierarchy.\n",
        "\n",
        "Q21)What is the significance of the __del__ method in Python?\n",
        "\n",
        "ans-The __del__ method in Python, also known as the destructor, holds significance primarily for resource cleanup when an object is about to be garbage collected.\n",
        "\n",
        "Q22) What is the difference between @staticmethod and @classmethod in Python?\n",
        "\n",
        "ans-The @staticmethod and @classmethod decorators in Python define methods within a class with distinct behaviors regarding how they interact with the class and its instances.\n",
        "\n",
        "@staticmethod: is for methods that don't need access to instance or class data.\n",
        "\n",
        "@classmethod: is for methods that need access to class-level data or to create instances of the class.\n",
        "\n",
        "Q23) How does polymorphism work in Python with inheritance?\n",
        "\n",
        "ans-Polymorphism in Python, when combined with inheritance, allows objects of different classes to be treated as objects of a common superclass, enabling a single interface to be used for different underlying implementations. This is primarily achieved through Method Overriding\n",
        "\n",
        "Q24)What is method chaining in Python OOP?\n",
        "\n",
        "ans-Method chaining in Python's Object-Oriented Programming (OOP) is a technique where multiple methods are called sequentially on the same object in a single line of code. This is achieved by having each method return the object itself (or a modified version of it) after performing its operation.\n",
        "\n",
        "Q25) What is the purpose of the __call__ method in Python?\n",
        "\n",
        "ans-The purpose of the __call__ method in Python is to make instances of a class callable, meaning they can be invoked like functions.\n",
        "\n"
      ],
      "metadata": {
        "id": "Mga8os7IwE8X"
      }
    },
    {
      "cell_type": "code",
      "source": [
        "#1 Create a parent class Animal with a method speak() that prints a generic message. Create a child class Dog that overrides the speak() method to print \"Bark!\".\n",
        "class Animal:\n",
        "  def speak(self):\n",
        "    print('The animal speaks')\n",
        "\n",
        "class Dog(Animal):\n",
        "  def speak(self):\n",
        "    print('The dog barks')\n",
        "obj=Dog()\n",
        "obj.speak()"
      ],
      "metadata": {
        "colab": {
          "base_uri": "https://localhost:8080/"
        },
        "id": "TuPbu3Ph1_Cd",
        "outputId": "d1d43238-30c0-4639-e263-2797b45ac77e"
      },
      "execution_count": null,
      "outputs": [
        {
          "output_type": "stream",
          "name": "stdout",
          "text": [
            "The dog barks\n"
          ]
        }
      ]
    },
    {
      "cell_type": "code",
      "source": [
        "#2 Write a program to create an abstract class Shape with a method area(). Derive classes Circle and Rectangle from it and implement the area() method in both.\n",
        "import abc\n",
        "class Shape:\n",
        "  @abc.abstractmethod\n",
        "  def area(self):\n",
        "    pass\n",
        "class Circle(Shape):\n",
        "  def area(self):\n",
        "    return '3.14*radius*radius'\n",
        "class Rectangle(Shape):\n",
        "  def area(self):\n",
        "    return \"length*breadth\"\n",
        "obj=Circle()\n",
        "obj1=Rectangle()\n",
        "print('The area of circle is',obj.area())\n",
        "print('The area of rectangle is',obj1.area())\n"
      ],
      "metadata": {
        "colab": {
          "base_uri": "https://localhost:8080/"
        },
        "id": "C-8iJF6a2zcM",
        "outputId": "9c6fcd2e-37f4-4f55-bb0b-0d8cca8ce799"
      },
      "execution_count": null,
      "outputs": [
        {
          "output_type": "stream",
          "name": "stdout",
          "text": [
            "The area of circle is 3.14*radius*radius\n",
            "The area of rectangle is length*breadth\n"
          ]
        }
      ]
    },
    {
      "cell_type": "code",
      "source": [
        "#3 Implement a multi-level inheritance scenario where a class Vehicle has an attribute type. Derive a class Car and further derive a class ElectricCar that adds a battery attribute.\n",
        "class Vehicle:\n",
        "  def __init__(self,type):\n",
        "    self.type=type\n",
        "class Car(Vehicle):\n",
        "  def __init__(self,type,name):\n",
        "    super().__init__(type)\n",
        "    self.name=name\n",
        "class ElectricCar(Car):\n",
        "  def __init__(self,type,name,battery):\n",
        "    super().__init__(type,name)\n",
        "    self.battery=battery\n",
        "  def info(self):\n",
        "    print(f'Battery Capacity:{self.battery} kwh')\n",
        "obj=ElectricCar('Four-Wheeler','Tesla',90)\n",
        "obj.info()"
      ],
      "metadata": {
        "colab": {
          "base_uri": "https://localhost:8080/"
        },
        "id": "uyAx7pnn413b",
        "outputId": "d01e5ad9-6c7c-49ad-83f0-03beb9613dcc"
      },
      "execution_count": null,
      "outputs": [
        {
          "output_type": "stream",
          "name": "stdout",
          "text": [
            "Battery Capacity:90 kwh\n"
          ]
        }
      ]
    },
    {
      "cell_type": "code",
      "source": [
        "#4 Demonstrate polymorphism by creating a base class Bird with a method fly(). Create two derived classes Sparrow and Penguin that override the fly() method.\n",
        "class Bird:\n",
        "  def fly(self):\n",
        "    print('Birds can fly')\n",
        "class Sparrow(Bird):\n",
        "  def fly(self):\n",
        "    print('Sparrows can fly')\n",
        "class Penguin(Bird):\n",
        "  def fly(self):\n",
        "    print('Penguins cannot fly')\n",
        "obj=Sparrow()\n",
        "obj1=Penguin()\n",
        "obj.fly()\n",
        "obj1.fly()"
      ],
      "metadata": {
        "colab": {
          "base_uri": "https://localhost:8080/"
        },
        "id": "YPdj2Cck6dkP",
        "outputId": "2897e8c1-77d4-4950-ce10-562d8b10bb13"
      },
      "execution_count": null,
      "outputs": [
        {
          "output_type": "stream",
          "name": "stdout",
          "text": [
            "Sparrows can fly\n",
            "Penguins cannot fly\n"
          ]
        }
      ]
    },
    {
      "cell_type": "code",
      "source": [
        "#5 Write a program to demonstrate encapsulation by creating a class BankAccount with private attributes balance and methods to deposit, withdraw, and check balance.\n",
        "class BankAccount:\n",
        "  def __init__(self,balance):\n",
        "    self.__balance=balance\n",
        "  def deposit(self,amount):\n",
        "    self.__balance=self.__balance+amount\n",
        "  def withdraw(self,amount):\n",
        "    self.__balance=self.__balance-amount\n",
        "  def check_balance(self):\n",
        "    return self.__balance\n",
        "obj=BankAccount(10000)\n",
        "obj.check_balance()\n",
        "obj.deposit(20000)\n",
        "obj.check_balance()\n"
      ],
      "metadata": {
        "colab": {
          "base_uri": "https://localhost:8080/"
        },
        "id": "6jpzOoJk6sMt",
        "outputId": "1dfc9f90-8c74-48af-f48b-9d98b76c5d69"
      },
      "execution_count": null,
      "outputs": [
        {
          "output_type": "execute_result",
          "data": {
            "text/plain": [
              "30000"
            ]
          },
          "metadata": {},
          "execution_count": 9
        }
      ]
    },
    {
      "cell_type": "code",
      "source": [
        "#6 Demonstrate runtime polymorphism using a method play() in a base class Instrument. Derive classes Guitar and Piano that implement their own version of play().\n",
        "class Instrument:\n",
        "  def play(self):\n",
        "    print('Instrument is playing')\n",
        "class Guitar(Instrument):\n",
        "  def play(self):\n",
        "    print('Guitar is playing')\n",
        "class Piano(Instrument):\n",
        "  def play(self):\n",
        "    print('Piano is playing')\n",
        "obj=Instrument()\n",
        "print(obj.play())\n",
        "obj1=Guitar()\n",
        "print(obj1.play())\n",
        "obj2=Piano()\n",
        "print(obj2.play())"
      ],
      "metadata": {
        "colab": {
          "base_uri": "https://localhost:8080/"
        },
        "id": "yNPfFY608a_M",
        "outputId": "fa40ed3d-f5fd-417b-b70e-1612329153be"
      },
      "execution_count": null,
      "outputs": [
        {
          "output_type": "stream",
          "name": "stdout",
          "text": [
            "Instrument is playing\n",
            "None\n",
            "Guitar is playing\n",
            "None\n",
            "Piano is playing\n",
            "None\n"
          ]
        }
      ]
    },
    {
      "cell_type": "code",
      "source": [
        "#7 Create a class MathOperations with a class method add_numbers() to add two numbers and a static method subtract_numbers() to subtract two numbers.\n",
        "class MathOperations:\n",
        "  @classmethod\n",
        "  def add_numbers(cls,num1,num2):\n",
        "    return num1+num2\n",
        "  @staticmethod\n",
        "  def subtract_numbers(num1,num2):\n",
        "    return num1-num2\n",
        "obj=MathOperations()\n",
        "print(obj.add_numbers(10,20))\n",
        "print(obj.subtract_numbers(20,10))"
      ],
      "metadata": {
        "colab": {
          "base_uri": "https://localhost:8080/"
        },
        "id": "lE_iOEyX9EIS",
        "outputId": "d723ce73-6c11-4170-c488-caefd36c6808"
      },
      "execution_count": null,
      "outputs": [
        {
          "output_type": "stream",
          "name": "stdout",
          "text": [
            "30\n",
            "10\n"
          ]
        }
      ]
    },
    {
      "cell_type": "code",
      "source": [
        "#8 Implement a class Person with a class method to count the total number of persons created.\n",
        "class Person:\n",
        "  total_Person=0\n",
        "  def __init__(self,name):\n",
        "    self.name=name\n",
        "    Person.total_Person=Person.total_Person+1\n",
        "  @classmethod\n",
        "  def get_total_person(cls):\n",
        "    return cls.total_Person\n",
        "obj=Person('Chirag')\n",
        "obj1=Person('Rakesh')\n",
        "Person.get_total_person()\n"
      ],
      "metadata": {
        "colab": {
          "base_uri": "https://localhost:8080/"
        },
        "id": "jA7ovdvG9n0O",
        "outputId": "3eeee520-8165-4719-9651-d7fa9ad11220"
      },
      "execution_count": null,
      "outputs": [
        {
          "output_type": "execute_result",
          "data": {
            "text/plain": [
              "2"
            ]
          },
          "metadata": {},
          "execution_count": 14
        }
      ]
    },
    {
      "cell_type": "code",
      "source": [
        "#9 Write a class Fraction with attributes numerator and denominator. Override the str method to display the fraction as \"numerator/denominator\".\n",
        "class Fraction:\n",
        "  def __init__(self,numerator,denominator):\n",
        "    self.numerator=numerator\n",
        "    self.denominator=denominator\n",
        "  def __str__(self):\n",
        "    return f'{self.numerator}/{self.denominator}'\n",
        "obj=Fraction(10,20)\n",
        "print(obj)"
      ],
      "metadata": {
        "id": "m-UPROOQ_F51",
        "colab": {
          "base_uri": "https://localhost:8080/"
        },
        "outputId": "bafba09a-fca0-4f5b-e098-e6e9f4da098d"
      },
      "execution_count": 1,
      "outputs": [
        {
          "output_type": "stream",
          "name": "stdout",
          "text": [
            "10/20\n"
          ]
        }
      ]
    },
    {
      "cell_type": "code",
      "source": [
        "#10 Demonstrate operator overloading by creating a class Vector and overriding the add method to add two vectors.\n",
        "class Vector:\n",
        "  def __init__(self,x,y):\n",
        "    self.x=x\n",
        "    self.y=y\n",
        "  def __add__(self,other):\n",
        "    return Vector(self.x+other.x,self.y+other.y)\n",
        "  def __str__(self):\n",
        "    return f'Vector({self.x},{self.y})'\n",
        "obj=Vector(10,20)\n",
        "obj1=Vector(30,40)\n",
        "result=obj+obj1\n",
        "print(result)"
      ],
      "metadata": {
        "colab": {
          "base_uri": "https://localhost:8080/"
        },
        "id": "ZVzEsukTlLps",
        "outputId": "887b70b1-15cc-4d24-f901-a47f21a6bf05"
      },
      "execution_count": 5,
      "outputs": [
        {
          "output_type": "stream",
          "name": "stdout",
          "text": [
            "Vector(40,60)\n"
          ]
        }
      ]
    },
    {
      "cell_type": "code",
      "source": [
        "#11 Create a class Person with attributes name and age. Add a method greet() that prints \"Hello, my name is {name} and I am {age} years old.\"\n",
        "class Person:\n",
        "  def __init__(self,name,age):\n",
        "    self.name=name\n",
        "    self.age=age\n",
        "  def greet(self):\n",
        "    return f'Hello,my name is {self.name} and I am {self.age} years old'\n",
        "obj=Person('Chirag',19)\n",
        "obj.greet()"
      ],
      "metadata": {
        "colab": {
          "base_uri": "https://localhost:8080/",
          "height": 35
        },
        "id": "YdSqOf_mmyIf",
        "outputId": "7e3a9989-e1a0-418f-8d9f-f1376d7cd935"
      },
      "execution_count": 8,
      "outputs": [
        {
          "output_type": "execute_result",
          "data": {
            "text/plain": [
              "'Hello,my name is Chirag and I am 19 years old'"
            ],
            "application/vnd.google.colaboratory.intrinsic+json": {
              "type": "string"
            }
          },
          "metadata": {},
          "execution_count": 8
        }
      ]
    },
    {
      "cell_type": "code",
      "source": [
        "#12 Implement a class Student with attributes name and grades. Create a method average_grade() to compute the average of the grades.\n",
        "class Student:\n",
        "  def __init__(self,name,grades):\n",
        "    self.name=name\n",
        "    self.grades=grades\n",
        "  def average_grade(self):\n",
        "    return sum(self.grades)/len(self.grades)\n",
        "obj=Student('Ajay',[90,90,20,90,80])\n",
        "obj.average_grade()"
      ],
      "metadata": {
        "colab": {
          "base_uri": "https://localhost:8080/"
        },
        "id": "QCZ3jnFgnk70",
        "outputId": "0fb959dd-9ab9-4d5d-c6cd-c072414cf063"
      },
      "execution_count": 9,
      "outputs": [
        {
          "output_type": "execute_result",
          "data": {
            "text/plain": [
              "74.0"
            ]
          },
          "metadata": {},
          "execution_count": 9
        }
      ]
    },
    {
      "cell_type": "code",
      "source": [
        "#13 Create a class Rectangle with methods set_dimensions() to set the dimensions and area() to calculate the area.\n",
        "class Rectangle:\n",
        "  def __init__(self,length,breadth):\n",
        "    self.length=length\n",
        "    self.breadth=breadth\n",
        "  @property\n",
        "  def set_dimensions(self):\n",
        "    return self.length*self.breadth\n",
        "\n",
        "obj=Rectangle(10,20)\n",
        "obj.set_dimensions"
      ],
      "metadata": {
        "colab": {
          "base_uri": "https://localhost:8080/"
        },
        "id": "dtK3Ej9on-lW",
        "outputId": "6cc5561c-70d8-48ce-8181-3924e63addb7"
      },
      "execution_count": 11,
      "outputs": [
        {
          "output_type": "execute_result",
          "data": {
            "text/plain": [
              "200"
            ]
          },
          "metadata": {},
          "execution_count": 11
        }
      ]
    },
    {
      "cell_type": "code",
      "source": [
        "#14 Create a class Employee with a method calculate_salary() that computes the salary based on hours worked and hourly rate. Create a derived class Manager that adds a bonus to the salary.\n",
        "class Employee:\n",
        "  def __init__(self,name,hours_worked,hourly_rate):\n",
        "    self.name=name\n",
        "    self.hours_worked=hours_worked\n",
        "    self.hourly_rate=hourly_rate\n",
        "  def calculate_salary(self):\n",
        "        return self.hours_worked * self.hourly_rate\n",
        "\n",
        "\n",
        "class Manager(Employee):\n",
        "    def __init__(self, name, hours_worked, hourly_rate, bonus):\n",
        "        super().__init__(name, hours_worked, hourly_rate)\n",
        "        self.bonus = bonus\n",
        "\n",
        "    def calculate_salary(self):\n",
        "        base_salary = super().calculate_salary()\n",
        "        return base_salary + self.bonus\n",
        "emp = Employee(\"John\", 40, 20)\n",
        "mgr = Manager(\"Alice\", 45, 30, 500)\n",
        "\n",
        "print(f\"{emp.name}'s Salary: {emp.calculate_salary()}\")\n",
        "print(f\"{mgr.name}'s Salary (with bonus): {mgr.calculate_salary()}\")\n",
        "\n"
      ],
      "metadata": {
        "colab": {
          "base_uri": "https://localhost:8080/"
        },
        "id": "gqgBiQgFoUYy",
        "outputId": "4f051828-8226-453f-b42d-0766882ae7c2"
      },
      "execution_count": 14,
      "outputs": [
        {
          "output_type": "stream",
          "name": "stdout",
          "text": [
            "John's Salary: 800\n",
            "Alice's Salary (with bonus): 1850\n"
          ]
        }
      ]
    },
    {
      "cell_type": "code",
      "source": [
        "#15 Create a class Product with attributes name, price, and quantity. Implement a method total_price() that calculates the total price of the product.\n",
        "class Product:\n",
        "  def __init__(self,name,price,quantity):\n",
        "    self.name=name\n",
        "    self.price=price\n",
        "    self.quantity=quantity\n",
        "  def total_price(self):\n",
        "    return self.price*self.quantity\n",
        "obj=Product('Pen',10,20)\n",
        "obj.total_price()"
      ],
      "metadata": {
        "colab": {
          "base_uri": "https://localhost:8080/"
        },
        "id": "fZ_BFVq6puTC",
        "outputId": "bd6eec47-1fc1-47bd-a91e-b30d4ef3ecee"
      },
      "execution_count": 15,
      "outputs": [
        {
          "output_type": "execute_result",
          "data": {
            "text/plain": [
              "200"
            ]
          },
          "metadata": {},
          "execution_count": 15
        }
      ]
    },
    {
      "cell_type": "code",
      "source": [
        "#16 Create a class Animal with an abstract method sound(). Create two derived classes Cow and Sheep that implement the sound() method.\n",
        "import abc\n",
        "class Animal:\n",
        "  @abc.abstractmethod\n",
        "  def sound(self):\n",
        "    pass\n",
        "class Cow(Animal):\n",
        "  def sound(self):\n",
        "    return 'Moo'\n",
        "class Sheep(Animal):\n",
        "  def sound(self):\n",
        "    return 'Baa'\n",
        "obj=Cow()\n",
        "print(obj.sound())\n",
        "obj1=Sheep()\n",
        "print(obj1.sound())"
      ],
      "metadata": {
        "colab": {
          "base_uri": "https://localhost:8080/"
        },
        "id": "V87TuTBlp9QR",
        "outputId": "11a7dad5-c1db-4a28-f33e-47a4a5563e6d"
      },
      "execution_count": 16,
      "outputs": [
        {
          "output_type": "stream",
          "name": "stdout",
          "text": [
            "Moo\n",
            "Baa\n"
          ]
        }
      ]
    },
    {
      "cell_type": "code",
      "source": [
        "#17 Create a class Book with attributes title, author, and year_published. Add a method get_book_info() that returns a formatted string with the book's details.\n",
        "class Book:\n",
        "  def __init__(self,title,author,year_published):\n",
        "    self.title=title\n",
        "    self.author=author\n",
        "    self.year_published=year_published\n",
        "  def get_book_info(self):\n",
        "    return f'The title of the book is {self.title},the author is {self.author} and it was published in the year {self.year_published}'\n",
        "obj=Book('Chirag','Baid',1909)\n",
        "obj.get_book_info()"
      ],
      "metadata": {
        "colab": {
          "base_uri": "https://localhost:8080/",
          "height": 35
        },
        "id": "oyImfKjhqa-z",
        "outputId": "dba183d5-da83-4354-aee9-64aa8f354aaa"
      },
      "execution_count": 17,
      "outputs": [
        {
          "output_type": "execute_result",
          "data": {
            "text/plain": [
              "'The title of the book is Chirag,the author is Baid and it was published in the year 1909'"
            ],
            "application/vnd.google.colaboratory.intrinsic+json": {
              "type": "string"
            }
          },
          "metadata": {},
          "execution_count": 17
        }
      ]
    },
    {
      "cell_type": "code",
      "source": [
        "#18 Create a class House with attributes address and price. Create a derived class Mansion that adds an attribute number_of_rooms.\n",
        "class House:\n",
        "  def __init__(self,address,price):\n",
        "    self.address=address\n",
        "    self.price=price\n",
        "  def display_info(self):\n",
        "    return f'Address is {self.address} and price is {self.price}'\n",
        "class Mansion(House):\n",
        "  def __init__(self,address,price,number_of_rooms):\n",
        "    super().__init__(address,price)\n",
        "    self.number_of_rooms=number_of_rooms\n",
        "  def display_info(self):\n",
        "    super().display_info\n",
        "    return f'Number of Rooms {self.number_of_rooms}'\n",
        "\n",
        "\n",
        "h1=House('bbsr',10000000)\n",
        "print(h1.display_info())\n",
        "m1=Mansion('bbsr',10000000,10)\n",
        "print(m1.display_info())"
      ],
      "metadata": {
        "colab": {
          "base_uri": "https://localhost:8080/"
        },
        "id": "-q1g6KFhrU0M",
        "outputId": "f8d32804-ec6e-4f6b-d359-a5257847a077"
      },
      "execution_count": 19,
      "outputs": [
        {
          "output_type": "stream",
          "name": "stdout",
          "text": [
            "Address is bbsr and price is 10000000\n",
            "Number of Rooms 10\n"
          ]
        }
      ]
    }
  ]
}